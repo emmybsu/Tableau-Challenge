{
 "cells": [
  {
   "cell_type": "markdown",
   "metadata": {},
   "source": [
    "Insert Dependencies"
   ]
  },
  {
   "cell_type": "code",
   "execution_count": 1,
   "metadata": {},
   "outputs": [],
   "source": [
    "import pandas as pd\n",
    "import os\n",
    "import glob"
   ]
  },
  {
   "cell_type": "markdown",
   "metadata": {},
   "source": [
    "Access Files"
   ]
  },
  {
   "cell_type": "code",
   "execution_count": 2,
   "metadata": {},
   "outputs": [],
   "source": [
    "# access all files in folder on computer\n",
    "path2013 = r'C:\\Users\\emjcr\\Desktop\\Butler Homework\\Tableau-Challenge\\201307-201402-citibike-tripdata\\2013\\**\\*.csv' # use your path\n",
    "all_rec = glob.iglob(path2013, recursive=True)\n",
    "# df = (pd.read_csv(f) for f in all_rec)\n",
    "# big_df = pd.concat(df, ignore_index=True)\n"
   ]
  },
  {
   "cell_type": "code",
   "execution_count": 3,
   "metadata": {},
   "outputs": [],
   "source": [
    "#create one file for files from 2013\n",
    "df2013 = pd.concat((pd.read_csv(f) for f in glob.iglob(path2013, recursive=True)), ignore_index=True)\n"
   ]
  },
  {
   "cell_type": "code",
   "execution_count": 4,
   "metadata": {},
   "outputs": [],
   "source": [
    "path2014 = r'C:\\Users\\emjcr\\Desktop\\Butler Homework\\Tableau-Challenge\\201307-201402-citibike-tripdata\\2014\\**\\*.csv' # use your path\n",
    "all_rec = glob.iglob(path2014, recursive=True)"
   ]
  },
  {
   "cell_type": "code",
   "execution_count": 5,
   "metadata": {},
   "outputs": [],
   "source": [
    "df2014 = pd.concat((pd.read_csv(f) for f in glob.iglob(path2014, recursive=True)), ignore_index=True)"
   ]
  },
  {
   "cell_type": "code",
   "execution_count": 6,
   "metadata": {},
   "outputs": [],
   "source": [
    "path2015 = r'C:\\Users\\emjcr\\Desktop\\Butler Homework\\Tableau-Challenge\\201307-201402-citibike-tripdata\\2015\\**\\*.csv' # use your path\n",
    "all_rec = glob.iglob(path2015, recursive=True)\n",
    "df2015 = pd.concat((pd.read_csv(f) for f in glob.iglob(path2015, recursive=True)), ignore_index=True)"
   ]
  },
  {
   "cell_type": "code",
   "execution_count": 7,
   "metadata": {},
   "outputs": [],
   "source": [
    "path2016Low = r'C:\\Users\\emjcr\\Desktop\\Butler Homework\\Tableau-Challenge\\201307-201402-citibike-tripdata\\2016\\Lower\\**\\*.csv' # use your path\n",
    "all_rec = glob.iglob(path2016Low, recursive=True)\n",
    "df2016Low = pd.concat((pd.read_csv(f) for f in glob.iglob(path2016Low, recursive=True)), ignore_index=True)"
   ]
  },
  {
   "cell_type": "code",
   "execution_count": 8,
   "metadata": {},
   "outputs": [],
   "source": [
    "path2016Up = r'C:\\Users\\emjcr\\Desktop\\Butler Homework\\Tableau-Challenge\\201307-201402-citibike-tripdata\\2016\\Upper\\**\\*.csv' # use your path\n",
    "all_rec = glob.iglob(path2016Up, recursive=True)\n",
    "df2016Up = pd.concat((pd.read_csv(f) for f in glob.iglob(path2016Up, recursive=True)), ignore_index=True)"
   ]
  },
  {
   "cell_type": "code",
   "execution_count": 9,
   "metadata": {},
   "outputs": [],
   "source": [
    "path2017tripdataU = r'C:\\Users\\emjcr\\Desktop\\Butler Homework\\Tableau-Challenge\\201307-201402-citibike-tripdata\\2017\\tripdata\\Upper\\**\\*.csv' # use your path\n",
    "all_rec = glob.iglob(path2017tripdataU, recursive=True)\n",
    "df2017tripdataU = pd.concat((pd.read_csv(f) for f in glob.iglob(path2017tripdataU, recursive=True)), ignore_index=True)"
   ]
  },
  {
   "cell_type": "code",
   "execution_count": 10,
   "metadata": {},
   "outputs": [],
   "source": [
    "path2017tripdataL = r'C:\\Users\\emjcr\\Desktop\\Butler Homework\\Tableau-Challenge\\201307-201402-citibike-tripdata\\2017\\tripdata\\Lower\\**\\*.csv' # use your path\n",
    "all_rec = glob.iglob(path2017tripdataL, recursive=True)\n",
    "df2017tripdataL = pd.concat((pd.read_csv(f) for f in glob.iglob(path2017tripdataL, recursive=True)), ignore_index=True)"
   ]
  },
  {
   "cell_type": "code",
   "execution_count": 11,
   "metadata": {},
   "outputs": [],
   "source": [
    "path2017JC = r'C:\\Users\\emjcr\\Desktop\\Butler Homework\\Tableau-Challenge\\201307-201402-citibike-tripdata\\2017\\JC\\**\\*.csv' # use your path\n",
    "all_rec = glob.iglob(path2017JC, recursive=True)\n",
    "df2017JC = pd.concat((pd.read_csv(f) for f in glob.iglob(path2017JC, recursive=True)), ignore_index=True)"
   ]
  },
  {
   "cell_type": "code",
   "execution_count": 12,
   "metadata": {},
   "outputs": [],
   "source": [
    "path2018 = r'C:\\Users\\emjcr\\Desktop\\Butler Homework\\Tableau-Challenge\\201307-201402-citibike-tripdata\\2018\\**\\*.csv' # use your path\n",
    "all_rec = glob.iglob(path2018, recursive=True)\n",
    "df2018 = pd.concat((pd.read_csv(f) for f in glob.iglob(path2018, recursive=True)), ignore_index=True)"
   ]
  },
  {
   "cell_type": "code",
   "execution_count": 13,
   "metadata": {},
   "outputs": [],
   "source": [
    "path2019 = r'C:\\Users\\emjcr\\Desktop\\Butler Homework\\Tableau-Challenge\\201307-201402-citibike-tripdata\\2019\\**\\*.csv' # use your path\n",
    "all_rec = glob.iglob(path2019, recursive=True)\n",
    "df2019 = pd.concat((pd.read_csv(f) for f in glob.iglob(path2019, recursive=True)), ignore_index=True)"
   ]
  },
  {
   "cell_type": "code",
   "execution_count": 14,
   "metadata": {},
   "outputs": [],
   "source": [
    "path2020 = r'C:\\Users\\emjcr\\Desktop\\Butler Homework\\Tableau-Challenge\\201307-201402-citibike-tripdata\\2020\\**\\*.csv' # use your path\n",
    "all_rec = glob.iglob(path2020, recursive=True)\n",
    "df2020 = pd.concat((pd.read_csv(f) for f in glob.iglob(path2020, recursive=True)), ignore_index=True)"
   ]
  },
  {
   "cell_type": "code",
   "execution_count": 15,
   "metadata": {},
   "outputs": [],
   "source": [
    "path2021 = r'C:\\Users\\emjcr\\Desktop\\Butler Homework\\Tableau-Challenge\\201307-201402-citibike-tripdata\\2021\\**\\*.csv' # use your path\n",
    "all_rec = glob.iglob(path2021, recursive=True)\n",
    "df2021 = pd.concat((pd.read_csv(f) for f in glob.iglob(path2021, recursive=True)), ignore_index=True)"
   ]
  },
  {
   "cell_type": "markdown",
   "metadata": {},
   "source": [
    "Look for and remove nulls from tables"
   ]
  },
  {
   "cell_type": "code",
   "execution_count": 7,
   "metadata": {},
   "outputs": [
    {
     "data": {
      "text/plain": [
       "tripduration               5037185\n",
       "starttime                  5037185\n",
       "stoptime                   5037185\n",
       "start station id           5037185\n",
       "start station name         5037185\n",
       "start station latitude     5037185\n",
       "start station longitude    5037185\n",
       "end station id             5037185\n",
       "end station name           5037185\n",
       "end station latitude       5037185\n",
       "end station longitude      5037185\n",
       "bikeid                     5037185\n",
       "usertype                   5037185\n",
       "birth year                 5037185\n",
       "gender                     5037185\n",
       "dtype: int64"
      ]
     },
     "execution_count": 7,
     "metadata": {},
     "output_type": "execute_result"
    }
   ],
   "source": [
    "df2013.count()"
   ]
  },
  {
   "cell_type": "code",
   "execution_count": 16,
   "metadata": {},
   "outputs": [],
   "source": [
    "df2013.to_csv(r'C:\\Users\\emjcr\\Desktop\\Butler Homework\\Tableau-Challenge\\201307-201402-citibike-tripdata\\CSV\\df2013.csv', index=False)"
   ]
  },
  {
   "cell_type": "code",
   "execution_count": 8,
   "metadata": {},
   "outputs": [
    {
     "data": {
      "text/plain": [
       "tripduration               8081216\n",
       "starttime                  8081216\n",
       "stoptime                   8081216\n",
       "start station id           8081216\n",
       "start station name         8081216\n",
       "start station latitude     8081216\n",
       "start station longitude    8081216\n",
       "end station id             8081216\n",
       "end station name           8081216\n",
       "end station latitude       8081216\n",
       "end station longitude      8081216\n",
       "bikeid                     8081216\n",
       "usertype                   8081216\n",
       "birth year                 7868282\n",
       "gender                     8081216\n",
       "dtype: int64"
      ]
     },
     "execution_count": 8,
     "metadata": {},
     "output_type": "execute_result"
    }
   ],
   "source": [
    "df2014.count()"
   ]
  },
  {
   "cell_type": "code",
   "execution_count": 9,
   "metadata": {},
   "outputs": [],
   "source": [
    "cleandf2014 = df2014.dropna()"
   ]
  },
  {
   "cell_type": "code",
   "execution_count": 10,
   "metadata": {
    "scrolled": true
   },
   "outputs": [
    {
     "data": {
      "text/plain": [
       "tripduration               7868282\n",
       "starttime                  7868282\n",
       "stoptime                   7868282\n",
       "start station id           7868282\n",
       "start station name         7868282\n",
       "start station latitude     7868282\n",
       "start station longitude    7868282\n",
       "end station id             7868282\n",
       "end station name           7868282\n",
       "end station latitude       7868282\n",
       "end station longitude      7868282\n",
       "bikeid                     7868282\n",
       "usertype                   7868282\n",
       "birth year                 7868282\n",
       "gender                     7868282\n",
       "dtype: int64"
      ]
     },
     "execution_count": 10,
     "metadata": {},
     "output_type": "execute_result"
    }
   ],
   "source": [
    "cleandf2014.count()"
   ]
  },
  {
   "cell_type": "code",
   "execution_count": 11,
   "metadata": {},
   "outputs": [],
   "source": [
    "cleandf2014.to_csv(r'C:\\Users\\emjcr\\Desktop\\Butler Homework\\Tableau-Challenge\\201307-201402-citibike-tripdata\\CSV\\cleandf2014.csv', index=False)"
   ]
  },
  {
   "cell_type": "code",
   "execution_count": 12,
   "metadata": {},
   "outputs": [
    {
     "data": {
      "text/plain": [
       "tripduration               9937969\n",
       "starttime                  9937969\n",
       "stoptime                   9937969\n",
       "start station id           9937969\n",
       "start station name         9937969\n",
       "start station latitude     9937969\n",
       "start station longitude    9937969\n",
       "end station id             9937969\n",
       "end station name           9937969\n",
       "end station latitude       9937969\n",
       "end station longitude      9937969\n",
       "bikeid                     9937969\n",
       "usertype                   9937969\n",
       "birth year                 8626591\n",
       "gender                     9937969\n",
       "dtype: int64"
      ]
     },
     "execution_count": 12,
     "metadata": {},
     "output_type": "execute_result"
    }
   ],
   "source": [
    "df2015.count()"
   ]
  },
  {
   "cell_type": "code",
   "execution_count": 13,
   "metadata": {},
   "outputs": [],
   "source": [
    "cleandf2015 = df2015.dropna()"
   ]
  },
  {
   "cell_type": "code",
   "execution_count": 14,
   "metadata": {},
   "outputs": [
    {
     "data": {
      "text/plain": [
       "tripduration               8626591\n",
       "starttime                  8626591\n",
       "stoptime                   8626591\n",
       "start station id           8626591\n",
       "start station name         8626591\n",
       "start station latitude     8626591\n",
       "start station longitude    8626591\n",
       "end station id             8626591\n",
       "end station name           8626591\n",
       "end station latitude       8626591\n",
       "end station longitude      8626591\n",
       "bikeid                     8626591\n",
       "usertype                   8626591\n",
       "birth year                 8626591\n",
       "gender                     8626591\n",
       "dtype: int64"
      ]
     },
     "execution_count": 14,
     "metadata": {},
     "output_type": "execute_result"
    }
   ],
   "source": [
    "cleandf2015.count()"
   ]
  },
  {
   "cell_type": "code",
   "execution_count": 15,
   "metadata": {},
   "outputs": [],
   "source": [
    "cleandf2015.to_csv(r'C:\\Users\\emjcr\\Desktop\\Butler Homework\\Tableau-Challenge\\201307-201402-citibike-tripdata\\CSV\\cleandf2015.csv', index=False)"
   ]
  },
  {
   "cell_type": "code",
   "execution_count": 23,
   "metadata": {},
   "outputs": [
    {
     "data": {
      "text/plain": [
       "tripduration               10262649\n",
       "starttime                  10262649\n",
       "stoptime                   10262649\n",
       "start station id           10262649\n",
       "start station name         10262649\n",
       "start station latitude     10262649\n",
       "start station longitude    10262649\n",
       "end station id             10262649\n",
       "end station name           10262649\n",
       "end station latitude       10262649\n",
       "end station longitude      10262649\n",
       "bikeid                     10262649\n",
       "usertype                   10262649\n",
       "birth year                  8979304\n",
       "gender                     10262649\n",
       "dtype: int64"
      ]
     },
     "execution_count": 23,
     "metadata": {},
     "output_type": "execute_result"
    }
   ],
   "source": [
    "df2016Low.count()"
   ]
  },
  {
   "cell_type": "code",
   "execution_count": 24,
   "metadata": {},
   "outputs": [],
   "source": [
    "cleandf2016Low = df2016Low.dropna()"
   ]
  },
  {
   "cell_type": "code",
   "execution_count": 25,
   "metadata": {
    "scrolled": true
   },
   "outputs": [
    {
     "data": {
      "text/plain": [
       "tripduration               8979304\n",
       "starttime                  8979304\n",
       "stoptime                   8979304\n",
       "start station id           8979304\n",
       "start station name         8979304\n",
       "start station latitude     8979304\n",
       "start station longitude    8979304\n",
       "end station id             8979304\n",
       "end station name           8979304\n",
       "end station latitude       8979304\n",
       "end station longitude      8979304\n",
       "bikeid                     8979304\n",
       "usertype                   8979304\n",
       "birth year                 8979304\n",
       "gender                     8979304\n",
       "dtype: int64"
      ]
     },
     "execution_count": 25,
     "metadata": {},
     "output_type": "execute_result"
    }
   ],
   "source": [
    "cleandf2016Low.count()"
   ]
  },
  {
   "cell_type": "code",
   "execution_count": 50,
   "metadata": {},
   "outputs": [],
   "source": [
    "cleandf2016Low.to_csv(r'C:\\Users\\emjcr\\Desktop\\Butler Homework\\Tableau-Challenge\\201307-201402-citibike-tripdata\\CSV\\cleandf2016Low.csv', index=False)"
   ]
  },
  {
   "cell_type": "code",
   "execution_count": 26,
   "metadata": {},
   "outputs": [
    {
     "data": {
      "text/plain": [
       "Trip Duration              3583006\n",
       "Start Time                 3583006\n",
       "Stop Time                  3583006\n",
       "Start Station ID           3583006\n",
       "Start Station Name         3583006\n",
       "Start Station Latitude     3583006\n",
       "Start Station Longitude    3583006\n",
       "End Station ID             3583006\n",
       "End Station Name           3583006\n",
       "End Station Latitude       3583006\n",
       "End Station Longitude      3583006\n",
       "Bike ID                    3583006\n",
       "User Type                  3547135\n",
       "Birth Year                 3279488\n",
       "Gender                     3583006\n",
       "dtype: int64"
      ]
     },
     "execution_count": 26,
     "metadata": {},
     "output_type": "execute_result"
    }
   ],
   "source": [
    "df2016Up.count()"
   ]
  },
  {
   "cell_type": "code",
   "execution_count": 27,
   "metadata": {},
   "outputs": [],
   "source": [
    "cleandf2016Up = df2016Up.dropna()"
   ]
  },
  {
   "cell_type": "code",
   "execution_count": 28,
   "metadata": {
    "scrolled": true
   },
   "outputs": [
    {
     "data": {
      "text/plain": [
       "Trip Duration              3243672\n",
       "Start Time                 3243672\n",
       "Stop Time                  3243672\n",
       "Start Station ID           3243672\n",
       "Start Station Name         3243672\n",
       "Start Station Latitude     3243672\n",
       "Start Station Longitude    3243672\n",
       "End Station ID             3243672\n",
       "End Station Name           3243672\n",
       "End Station Latitude       3243672\n",
       "End Station Longitude      3243672\n",
       "Bike ID                    3243672\n",
       "User Type                  3243672\n",
       "Birth Year                 3243672\n",
       "Gender                     3243672\n",
       "dtype: int64"
      ]
     },
     "execution_count": 28,
     "metadata": {},
     "output_type": "execute_result"
    }
   ],
   "source": [
    "cleandf2016Up.count()"
   ]
  },
  {
   "cell_type": "code",
   "execution_count": 49,
   "metadata": {},
   "outputs": [],
   "source": [
    "cleandf2016Up.to_csv(r'C:\\Users\\emjcr\\Desktop\\Butler Homework\\Tableau-Challenge\\201307-201402-citibike-tripdata\\CSV\\cleandf2016Up.csv', index=False)"
   ]
  },
  {
   "cell_type": "code",
   "execution_count": 29,
   "metadata": {},
   "outputs": [],
   "source": [
    "cleandf2017tripdataU = df2017tripdataU.dropna()"
   ]
  },
  {
   "cell_type": "code",
   "execution_count": 30,
   "metadata": {
    "scrolled": true
   },
   "outputs": [
    {
     "data": {
      "text/plain": [
       "Trip Duration              2118859\n",
       "Start Time                 2118859\n",
       "Stop Time                  2118859\n",
       "Start Station ID           2118859\n",
       "Start Station Name         2118859\n",
       "Start Station Latitude     2118859\n",
       "Start Station Longitude    2118859\n",
       "End Station ID             2118859\n",
       "End Station Name           2118859\n",
       "End Station Latitude       2118859\n",
       "End Station Longitude      2118859\n",
       "Bike ID                    2118859\n",
       "User Type                  2118859\n",
       "Birth Year                 2118859\n",
       "Gender                     2118859\n",
       "dtype: int64"
      ]
     },
     "execution_count": 30,
     "metadata": {},
     "output_type": "execute_result"
    }
   ],
   "source": [
    "cleandf2017tripdataU.count()"
   ]
  },
  {
   "cell_type": "code",
   "execution_count": 48,
   "metadata": {},
   "outputs": [],
   "source": [
    "cleandf2017tripdataU.to_csv(r'C:\\Users\\emjcr\\Desktop\\Butler Homework\\Tableau-Challenge\\201307-201402-citibike-tripdata\\CSV\\cleandf2017tripdataU.csv', index=False)"
   ]
  },
  {
   "cell_type": "code",
   "execution_count": 31,
   "metadata": {},
   "outputs": [],
   "source": [
    "cleandf2017tripdataL = df2017tripdataL.dropna()"
   ]
  },
  {
   "cell_type": "code",
   "execution_count": 32,
   "metadata": {
    "scrolled": true
   },
   "outputs": [
    {
     "data": {
      "text/plain": [
       "tripduration               4036339\n",
       "starttime                  4036339\n",
       "stoptime                   4036339\n",
       "start station id           4036339\n",
       "start station name         4036339\n",
       "start station latitude     4036339\n",
       "start station longitude    4036339\n",
       "end station id             4036339\n",
       "end station name           4036339\n",
       "end station latitude       4036339\n",
       "end station longitude      4036339\n",
       "bikeid                     4036339\n",
       "usertype                   4036339\n",
       "birth year                 4036339\n",
       "gender                     4036339\n",
       "dtype: int64"
      ]
     },
     "execution_count": 32,
     "metadata": {},
     "output_type": "execute_result"
    }
   ],
   "source": [
    "cleandf2017tripdataL.count()"
   ]
  },
  {
   "cell_type": "code",
   "execution_count": 47,
   "metadata": {},
   "outputs": [],
   "source": [
    "cleandf2017tripdataL.to_csv(r'C:\\Users\\emjcr\\Desktop\\Butler Homework\\Tableau-Challenge\\201307-201402-citibike-tripdata\\CSV\\df2017tripdataL.csv', index=False)"
   ]
  },
  {
   "cell_type": "code",
   "execution_count": 33,
   "metadata": {},
   "outputs": [],
   "source": [
    "cleandf2017JC = df2017JC.dropna()"
   ]
  },
  {
   "cell_type": "code",
   "execution_count": 34,
   "metadata": {
    "scrolled": true
   },
   "outputs": [
    {
     "data": {
      "text/plain": [
       "tripduration               165095\n",
       "starttime                  165095\n",
       "stoptime                   165095\n",
       "start station id           165095\n",
       "start station name         165095\n",
       "start station latitude     165095\n",
       "start station longitude    165095\n",
       "end station id             165095\n",
       "end station name           165095\n",
       "end station latitude       165095\n",
       "end station longitude      165095\n",
       "bikeid                     165095\n",
       "usertype                   165095\n",
       "birth year                 165095\n",
       "gender                     165095\n",
       "dtype: int64"
      ]
     },
     "execution_count": 34,
     "metadata": {},
     "output_type": "execute_result"
    }
   ],
   "source": [
    "cleandf2017JC.count()"
   ]
  },
  {
   "cell_type": "code",
   "execution_count": 46,
   "metadata": {},
   "outputs": [],
   "source": [
    "cleandf2017JC.to_csv(r'C:\\Users\\emjcr\\Desktop\\Butler Homework\\Tableau-Challenge\\201307-201402-citibike-tripdata\\CSV\\cleandf2017JC.csv', index=False)"
   ]
  },
  {
   "cell_type": "code",
   "execution_count": 35,
   "metadata": {
    "scrolled": true
   },
   "outputs": [
    {
     "data": {
      "text/plain": [
       "tripduration               353892\n",
       "starttime                  353892\n",
       "stoptime                   353892\n",
       "start station id           353892\n",
       "start station name         353892\n",
       "start station latitude     353892\n",
       "start station longitude    353892\n",
       "end station id             353892\n",
       "end station name           353892\n",
       "end station latitude       353892\n",
       "end station longitude      353892\n",
       "bikeid                     353892\n",
       "usertype                   353892\n",
       "birth year                 353892\n",
       "gender                     353892\n",
       "dtype: int64"
      ]
     },
     "execution_count": 35,
     "metadata": {},
     "output_type": "execute_result"
    }
   ],
   "source": [
    "df2018.count()"
   ]
  },
  {
   "cell_type": "code",
   "execution_count": 45,
   "metadata": {},
   "outputs": [],
   "source": [
    "df2018.to_csv(r'C:\\Users\\emjcr\\Desktop\\Butler Homework\\Tableau-Challenge\\201307-201402-citibike-tripdata\\CSV\\df2018.csv', index=False)"
   ]
  },
  {
   "cell_type": "code",
   "execution_count": 36,
   "metadata": {
    "scrolled": true
   },
   "outputs": [
    {
     "data": {
      "text/plain": [
       "tripduration               404947\n",
       "starttime                  404947\n",
       "stoptime                   404947\n",
       "start station id           404947\n",
       "start station name         404947\n",
       "start station latitude     404947\n",
       "start station longitude    404947\n",
       "end station id             404947\n",
       "end station name           404947\n",
       "end station latitude       404947\n",
       "end station longitude      404947\n",
       "bikeid                     404947\n",
       "usertype                   404947\n",
       "birth year                 404947\n",
       "gender                     404947\n",
       "dtype: int64"
      ]
     },
     "execution_count": 36,
     "metadata": {},
     "output_type": "execute_result"
    }
   ],
   "source": [
    "df2019.count()"
   ]
  },
  {
   "cell_type": "code",
   "execution_count": 44,
   "metadata": {},
   "outputs": [],
   "source": [
    "df2019.to_csv(r'C:\\Users\\emjcr\\Desktop\\Butler Homework\\Tableau-Challenge\\201307-201402-citibike-tripdata\\CSV\\df2019.csv', index=False)"
   ]
  },
  {
   "cell_type": "code",
   "execution_count": 37,
   "metadata": {
    "scrolled": true
   },
   "outputs": [
    {
     "data": {
      "text/plain": [
       "tripduration               336802\n",
       "starttime                  336802\n",
       "stoptime                   336802\n",
       "start station id           336802\n",
       "start station name         336802\n",
       "start station latitude     336802\n",
       "start station longitude    336802\n",
       "end station id             336802\n",
       "end station name           336802\n",
       "end station latitude       336802\n",
       "end station longitude      336802\n",
       "bikeid                     336802\n",
       "usertype                   336802\n",
       "birth year                 336802\n",
       "gender                     336802\n",
       "dtype: int64"
      ]
     },
     "execution_count": 37,
     "metadata": {},
     "output_type": "execute_result"
    }
   ],
   "source": [
    "df2020.count()"
   ]
  },
  {
   "cell_type": "code",
   "execution_count": 43,
   "metadata": {},
   "outputs": [],
   "source": [
    "df2020.to_csv(r'C:\\Users\\emjcr\\Desktop\\Butler Homework\\Tableau-Challenge\\201307-201402-citibike-tripdata\\CSV\\df2020.csv', index=False)"
   ]
  },
  {
   "cell_type": "code",
   "execution_count": 38,
   "metadata": {
    "scrolled": true
   },
   "outputs": [
    {
     "data": {
      "text/plain": [
       "tripduration               33192\n",
       "starttime                  33192\n",
       "stoptime                   33192\n",
       "start station id           33192\n",
       "start station name         33192\n",
       "start station latitude     33192\n",
       "start station longitude    33192\n",
       "end station id             33192\n",
       "end station name           33192\n",
       "end station latitude       33192\n",
       "end station longitude      33192\n",
       "bikeid                     33192\n",
       "usertype                   33192\n",
       "birth year                 33192\n",
       "gender                     33192\n",
       "dtype: int64"
      ]
     },
     "execution_count": 38,
     "metadata": {},
     "output_type": "execute_result"
    }
   ],
   "source": [
    "df2021.count()"
   ]
  },
  {
   "cell_type": "code",
   "execution_count": 42,
   "metadata": {},
   "outputs": [],
   "source": [
    "df2021.to_csv(r'C:\\Users\\emjcr\\Desktop\\Butler Homework\\Tableau-Challenge\\201307-201402-citibike-tripdata\\CSV\\df2021.csv', index=False)"
   ]
  },
  {
   "cell_type": "markdown",
   "metadata": {},
   "source": [
    "Create test case for \"Gender Only\" CSV file for visualization"
   ]
  },
  {
   "cell_type": "code",
   "execution_count": 40,
   "metadata": {},
   "outputs": [
    {
     "data": {
      "text/html": [
       "<div>\n",
       "<style scoped>\n",
       "    .dataframe tbody tr th:only-of-type {\n",
       "        vertical-align: middle;\n",
       "    }\n",
       "\n",
       "    .dataframe tbody tr th {\n",
       "        vertical-align: top;\n",
       "    }\n",
       "\n",
       "    .dataframe thead th {\n",
       "        text-align: right;\n",
       "    }\n",
       "</style>\n",
       "<table border=\"1\" class=\"dataframe\">\n",
       "  <thead>\n",
       "    <tr style=\"text-align: right;\">\n",
       "      <th></th>\n",
       "      <th>tripduration</th>\n",
       "      <th>starttime</th>\n",
       "      <th>stoptime</th>\n",
       "      <th>start station id</th>\n",
       "      <th>start station name</th>\n",
       "      <th>start station latitude</th>\n",
       "      <th>start station longitude</th>\n",
       "      <th>end station id</th>\n",
       "      <th>end station name</th>\n",
       "      <th>end station latitude</th>\n",
       "      <th>end station longitude</th>\n",
       "      <th>bikeid</th>\n",
       "      <th>usertype</th>\n",
       "      <th>birth year</th>\n",
       "      <th>gender</th>\n",
       "    </tr>\n",
       "  </thead>\n",
       "  <tbody>\n",
       "    <tr>\n",
       "      <th>0</th>\n",
       "      <td>932</td>\n",
       "      <td>2018-01-01 02:06:17.5410</td>\n",
       "      <td>2018-01-01 02:21:50.0270</td>\n",
       "      <td>3183</td>\n",
       "      <td>Exchange Place</td>\n",
       "      <td>40.716247</td>\n",
       "      <td>-74.033459</td>\n",
       "      <td>3199</td>\n",
       "      <td>Newport Pkwy</td>\n",
       "      <td>40.728745</td>\n",
       "      <td>-74.032108</td>\n",
       "      <td>31929</td>\n",
       "      <td>Subscriber</td>\n",
       "      <td>1992</td>\n",
       "      <td>1</td>\n",
       "    </tr>\n",
       "    <tr>\n",
       "      <th>1</th>\n",
       "      <td>550</td>\n",
       "      <td>2018-01-01 12:06:18.0390</td>\n",
       "      <td>2018-01-01 12:15:28.4430</td>\n",
       "      <td>3183</td>\n",
       "      <td>Exchange Place</td>\n",
       "      <td>40.716247</td>\n",
       "      <td>-74.033459</td>\n",
       "      <td>3199</td>\n",
       "      <td>Newport Pkwy</td>\n",
       "      <td>40.728745</td>\n",
       "      <td>-74.032108</td>\n",
       "      <td>31845</td>\n",
       "      <td>Subscriber</td>\n",
       "      <td>1969</td>\n",
       "      <td>2</td>\n",
       "    </tr>\n",
       "    <tr>\n",
       "      <th>2</th>\n",
       "      <td>510</td>\n",
       "      <td>2018-01-01 12:06:56.9780</td>\n",
       "      <td>2018-01-01 12:15:27.8100</td>\n",
       "      <td>3183</td>\n",
       "      <td>Exchange Place</td>\n",
       "      <td>40.716247</td>\n",
       "      <td>-74.033459</td>\n",
       "      <td>3199</td>\n",
       "      <td>Newport Pkwy</td>\n",
       "      <td>40.728745</td>\n",
       "      <td>-74.032108</td>\n",
       "      <td>31708</td>\n",
       "      <td>Subscriber</td>\n",
       "      <td>1946</td>\n",
       "      <td>1</td>\n",
       "    </tr>\n",
       "    <tr>\n",
       "      <th>3</th>\n",
       "      <td>354</td>\n",
       "      <td>2018-01-01 14:53:10.1860</td>\n",
       "      <td>2018-01-01 14:59:05.0960</td>\n",
       "      <td>3183</td>\n",
       "      <td>Exchange Place</td>\n",
       "      <td>40.716247</td>\n",
       "      <td>-74.033459</td>\n",
       "      <td>3267</td>\n",
       "      <td>Morris Canal</td>\n",
       "      <td>40.712419</td>\n",
       "      <td>-74.038526</td>\n",
       "      <td>31697</td>\n",
       "      <td>Subscriber</td>\n",
       "      <td>1994</td>\n",
       "      <td>1</td>\n",
       "    </tr>\n",
       "    <tr>\n",
       "      <th>4</th>\n",
       "      <td>250</td>\n",
       "      <td>2018-01-01 17:34:30.1920</td>\n",
       "      <td>2018-01-01 17:38:40.9840</td>\n",
       "      <td>3183</td>\n",
       "      <td>Exchange Place</td>\n",
       "      <td>40.716247</td>\n",
       "      <td>-74.033459</td>\n",
       "      <td>3639</td>\n",
       "      <td>Harborside</td>\n",
       "      <td>40.719252</td>\n",
       "      <td>-74.034234</td>\n",
       "      <td>31861</td>\n",
       "      <td>Subscriber</td>\n",
       "      <td>1991</td>\n",
       "      <td>1</td>\n",
       "    </tr>\n",
       "    <tr>\n",
       "      <th>...</th>\n",
       "      <td>...</td>\n",
       "      <td>...</td>\n",
       "      <td>...</td>\n",
       "      <td>...</td>\n",
       "      <td>...</td>\n",
       "      <td>...</td>\n",
       "      <td>...</td>\n",
       "      <td>...</td>\n",
       "      <td>...</td>\n",
       "      <td>...</td>\n",
       "      <td>...</td>\n",
       "      <td>...</td>\n",
       "      <td>...</td>\n",
       "      <td>...</td>\n",
       "      <td>...</td>\n",
       "    </tr>\n",
       "    <tr>\n",
       "      <th>353887</th>\n",
       "      <td>1081</td>\n",
       "      <td>2018-12-22 11:51:46.0600</td>\n",
       "      <td>2018-12-22 12:09:47.4730</td>\n",
       "      <td>3694</td>\n",
       "      <td>Jackson Square</td>\n",
       "      <td>40.711130</td>\n",
       "      <td>-74.078900</td>\n",
       "      <td>3269</td>\n",
       "      <td>Brunswick &amp; 6th</td>\n",
       "      <td>40.726012</td>\n",
       "      <td>-74.050389</td>\n",
       "      <td>29586</td>\n",
       "      <td>Subscriber</td>\n",
       "      <td>1993</td>\n",
       "      <td>1</td>\n",
       "    </tr>\n",
       "    <tr>\n",
       "      <th>353888</th>\n",
       "      <td>344</td>\n",
       "      <td>2018-12-25 21:40:09.8660</td>\n",
       "      <td>2018-12-25 21:45:54.2670</td>\n",
       "      <td>3694</td>\n",
       "      <td>Jackson Square</td>\n",
       "      <td>40.711130</td>\n",
       "      <td>-74.078900</td>\n",
       "      <td>3280</td>\n",
       "      <td>Astor Place</td>\n",
       "      <td>40.719282</td>\n",
       "      <td>-74.071262</td>\n",
       "      <td>26241</td>\n",
       "      <td>Subscriber</td>\n",
       "      <td>1983</td>\n",
       "      <td>2</td>\n",
       "    </tr>\n",
       "    <tr>\n",
       "      <th>353889</th>\n",
       "      <td>1233</td>\n",
       "      <td>2018-12-29 12:55:45.9690</td>\n",
       "      <td>2018-12-29 13:16:19.5960</td>\n",
       "      <td>3694</td>\n",
       "      <td>Jackson Square</td>\n",
       "      <td>40.711130</td>\n",
       "      <td>-74.078900</td>\n",
       "      <td>3186</td>\n",
       "      <td>Grove St PATH</td>\n",
       "      <td>40.719586</td>\n",
       "      <td>-74.043117</td>\n",
       "      <td>29294</td>\n",
       "      <td>Subscriber</td>\n",
       "      <td>1988</td>\n",
       "      <td>1</td>\n",
       "    </tr>\n",
       "    <tr>\n",
       "      <th>353890</th>\n",
       "      <td>1057</td>\n",
       "      <td>2018-12-30 15:32:09.3320</td>\n",
       "      <td>2018-12-30 15:49:46.3510</td>\n",
       "      <td>3694</td>\n",
       "      <td>Jackson Square</td>\n",
       "      <td>40.711130</td>\n",
       "      <td>-74.078900</td>\n",
       "      <td>3213</td>\n",
       "      <td>Van Vorst Park</td>\n",
       "      <td>40.718489</td>\n",
       "      <td>-74.047727</td>\n",
       "      <td>29475</td>\n",
       "      <td>Subscriber</td>\n",
       "      <td>1991</td>\n",
       "      <td>2</td>\n",
       "    </tr>\n",
       "    <tr>\n",
       "      <th>353891</th>\n",
       "      <td>301</td>\n",
       "      <td>2018-12-31 16:34:11.9340</td>\n",
       "      <td>2018-12-31 16:39:13.8340</td>\n",
       "      <td>3694</td>\n",
       "      <td>Jackson Square</td>\n",
       "      <td>40.711130</td>\n",
       "      <td>-74.078900</td>\n",
       "      <td>3277</td>\n",
       "      <td>Communipaw &amp; Berry Lane</td>\n",
       "      <td>40.714358</td>\n",
       "      <td>-74.066611</td>\n",
       "      <td>26270</td>\n",
       "      <td>Subscriber</td>\n",
       "      <td>1991</td>\n",
       "      <td>1</td>\n",
       "    </tr>\n",
       "  </tbody>\n",
       "</table>\n",
       "<p>332476 rows × 15 columns</p>\n",
       "</div>"
      ],
      "text/plain": [
       "        tripduration                 starttime                  stoptime  \\\n",
       "0                932  2018-01-01 02:06:17.5410  2018-01-01 02:21:50.0270   \n",
       "1                550  2018-01-01 12:06:18.0390  2018-01-01 12:15:28.4430   \n",
       "2                510  2018-01-01 12:06:56.9780  2018-01-01 12:15:27.8100   \n",
       "3                354  2018-01-01 14:53:10.1860  2018-01-01 14:59:05.0960   \n",
       "4                250  2018-01-01 17:34:30.1920  2018-01-01 17:38:40.9840   \n",
       "...              ...                       ...                       ...   \n",
       "353887          1081  2018-12-22 11:51:46.0600  2018-12-22 12:09:47.4730   \n",
       "353888           344  2018-12-25 21:40:09.8660  2018-12-25 21:45:54.2670   \n",
       "353889          1233  2018-12-29 12:55:45.9690  2018-12-29 13:16:19.5960   \n",
       "353890          1057  2018-12-30 15:32:09.3320  2018-12-30 15:49:46.3510   \n",
       "353891           301  2018-12-31 16:34:11.9340  2018-12-31 16:39:13.8340   \n",
       "\n",
       "        start station id start station name  start station latitude  \\\n",
       "0                   3183     Exchange Place               40.716247   \n",
       "1                   3183     Exchange Place               40.716247   \n",
       "2                   3183     Exchange Place               40.716247   \n",
       "3                   3183     Exchange Place               40.716247   \n",
       "4                   3183     Exchange Place               40.716247   \n",
       "...                  ...                ...                     ...   \n",
       "353887              3694     Jackson Square               40.711130   \n",
       "353888              3694     Jackson Square               40.711130   \n",
       "353889              3694     Jackson Square               40.711130   \n",
       "353890              3694     Jackson Square               40.711130   \n",
       "353891              3694     Jackson Square               40.711130   \n",
       "\n",
       "        start station longitude  end station id         end station name  \\\n",
       "0                    -74.033459            3199             Newport Pkwy   \n",
       "1                    -74.033459            3199             Newport Pkwy   \n",
       "2                    -74.033459            3199             Newport Pkwy   \n",
       "3                    -74.033459            3267             Morris Canal   \n",
       "4                    -74.033459            3639               Harborside   \n",
       "...                         ...             ...                      ...   \n",
       "353887               -74.078900            3269          Brunswick & 6th   \n",
       "353888               -74.078900            3280              Astor Place   \n",
       "353889               -74.078900            3186            Grove St PATH   \n",
       "353890               -74.078900            3213           Van Vorst Park   \n",
       "353891               -74.078900            3277  Communipaw & Berry Lane   \n",
       "\n",
       "        end station latitude  end station longitude  bikeid    usertype  \\\n",
       "0                  40.728745             -74.032108   31929  Subscriber   \n",
       "1                  40.728745             -74.032108   31845  Subscriber   \n",
       "2                  40.728745             -74.032108   31708  Subscriber   \n",
       "3                  40.712419             -74.038526   31697  Subscriber   \n",
       "4                  40.719252             -74.034234   31861  Subscriber   \n",
       "...                      ...                    ...     ...         ...   \n",
       "353887             40.726012             -74.050389   29586  Subscriber   \n",
       "353888             40.719282             -74.071262   26241  Subscriber   \n",
       "353889             40.719586             -74.043117   29294  Subscriber   \n",
       "353890             40.718489             -74.047727   29475  Subscriber   \n",
       "353891             40.714358             -74.066611   26270  Subscriber   \n",
       "\n",
       "        birth year  gender  \n",
       "0             1992       1  \n",
       "1             1969       2  \n",
       "2             1946       1  \n",
       "3             1994       1  \n",
       "4             1991       1  \n",
       "...            ...     ...  \n",
       "353887        1993       1  \n",
       "353888        1983       2  \n",
       "353889        1988       1  \n",
       "353890        1991       2  \n",
       "353891        1991       1  \n",
       "\n",
       "[332476 rows x 15 columns]"
      ]
     },
     "execution_count": 40,
     "metadata": {},
     "output_type": "execute_result"
    }
   ],
   "source": [
    "gender2018 = df2018.loc[df2018['gender'] != 0,]\n",
    "gender2018"
   ]
  },
  {
   "cell_type": "code",
   "execution_count": 41,
   "metadata": {},
   "outputs": [],
   "source": [
    "gender2018.to_csv(r'C:\\Users\\emjcr\\Desktop\\Butler Homework\\Tableau-Challenge\\201307-201402-citibike-tripdata\\CSV\\gender2018.csv', index=False)"
   ]
  },
  {
   "cell_type": "code",
   "execution_count": null,
   "metadata": {},
   "outputs": [],
   "source": []
  },
  {
   "cell_type": "code",
   "execution_count": null,
   "metadata": {},
   "outputs": [],
   "source": []
  },
  {
   "cell_type": "code",
   "execution_count": null,
   "metadata": {},
   "outputs": [],
   "source": []
  },
  {
   "cell_type": "code",
   "execution_count": null,
   "metadata": {},
   "outputs": [],
   "source": []
  },
  {
   "cell_type": "code",
   "execution_count": null,
   "metadata": {},
   "outputs": [],
   "source": []
  },
  {
   "cell_type": "code",
   "execution_count": null,
   "metadata": {},
   "outputs": [],
   "source": []
  },
  {
   "cell_type": "code",
   "execution_count": null,
   "metadata": {},
   "outputs": [],
   "source": []
  },
  {
   "cell_type": "code",
   "execution_count": null,
   "metadata": {},
   "outputs": [],
   "source": []
  },
  {
   "cell_type": "code",
   "execution_count": null,
   "metadata": {},
   "outputs": [],
   "source": []
  },
  {
   "cell_type": "code",
   "execution_count": null,
   "metadata": {},
   "outputs": [],
   "source": []
  }
 ],
 "metadata": {
  "kernelspec": {
   "display_name": "Python 3",
   "language": "python",
   "name": "python3"
  },
  "language_info": {
   "codemirror_mode": {
    "name": "ipython",
    "version": 3
   },
   "file_extension": ".py",
   "mimetype": "text/x-python",
   "name": "python",
   "nbconvert_exporter": "python",
   "pygments_lexer": "ipython3",
   "version": "3.8.5"
  }
 },
 "nbformat": 4,
 "nbformat_minor": 4
}
